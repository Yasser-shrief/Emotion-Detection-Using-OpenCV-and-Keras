{
 "cells": [
  {
   "cell_type": "markdown",
   "metadata": {
    "papermill": {
     "duration": 0.015714,
     "end_time": "2021-01-04T16:09:48.252450",
     "exception": false,
     "start_time": "2021-01-04T16:09:48.236736",
     "status": "completed"
    },
    "tags": []
   },
   "source": [
    "The data consists of 48x48 pixel grayscale images of faces. The faces have been automatically registered so that the face is more or less centered and occupies about the same amount of space in each image. The task is to categorize each face based on the emotion shown in the facial expression in to one of seven categories:"
   ]
  },
  {
   "cell_type": "code",
   "execution_count": 1,
   "metadata": {
    "execution": {
     "iopub.execute_input": "2021-01-04T16:09:48.293982Z",
     "iopub.status.busy": "2021-01-04T16:09:48.293387Z",
     "iopub.status.idle": "2021-01-04T16:09:53.231920Z",
     "shell.execute_reply": "2021-01-04T16:09:53.230753Z"
    },
    "papermill": {
     "duration": 4.964345,
     "end_time": "2021-01-04T16:09:53.232086",
     "exception": false,
     "start_time": "2021-01-04T16:09:48.267741",
     "status": "completed"
    },
    "tags": []
   },
   "outputs": [
    {
     "name": "stdout",
     "output_type": "stream",
     "text": [
      "Populating the interactive namespace from numpy and matplotlib\n"
     ]
    }
   ],
   "source": [
    "%pylab inline\n",
    "import os\n",
    "import numpy as np\n",
    "import pandas as pd\n",
    "import matplotlib.pyplot as plt\n",
    "# from matplotlib.pyplot import imread\n",
    "# import imageio\n",
    "from matplotlib import image\n",
    "\n",
    "\n",
    "from sklearn.metrics import accuracy_score\n",
    "\n",
    "# import tensorflow as tf\n",
    "import tensorflow.keras as keras\n",
    "\n",
    "from tensorflow.keras.models import Sequential\n",
    "from tensorflow.keras.layers import Dense, Activation, Dropout, Convolution2D, Flatten, MaxPooling2D, Reshape, InputLayer\n",
    "from keras.layers.normalization import BatchNormalization\n",
    "from tensorflow.keras.preprocessing.image import load_img"
   ]
  },
  {
   "cell_type": "code",
   "execution_count": 2,
   "metadata": {
    "execution": {
     "iopub.execute_input": "2021-01-04T16:09:53.267713Z",
     "iopub.status.busy": "2021-01-04T16:09:53.266964Z",
     "iopub.status.idle": "2021-01-04T16:09:53.274553Z",
     "shell.execute_reply": "2021-01-04T16:09:53.274109Z"
    },
    "papermill": {
     "duration": 0.026636,
     "end_time": "2021-01-04T16:09:53.274647",
     "exception": false,
     "start_time": "2021-01-04T16:09:53.248011",
     "status": "completed"
    },
    "tags": []
   },
   "outputs": [
    {
     "data": {
      "text/plain": [
       "['icml_face_data.csv',\n",
       " 'fer2013.tar.gz',\n",
       " 'example_submission.csv',\n",
       " 'train.csv',\n",
       " 'test.csv']"
      ]
     },
     "execution_count": 2,
     "metadata": {},
     "output_type": "execute_result"
    }
   ],
   "source": [
    "path = '/kaggle/input/challenges-in-representation-learning-facial-expression-recognition-challenge/'\n",
    "os.listdir(path)"
   ]
  },
  {
   "cell_type": "code",
   "execution_count": 3,
   "metadata": {
    "execution": {
     "iopub.execute_input": "2021-01-04T16:09:53.312980Z",
     "iopub.status.busy": "2021-01-04T16:09:53.312440Z",
     "iopub.status.idle": "2021-01-04T16:10:00.307856Z",
     "shell.execute_reply": "2021-01-04T16:10:00.306777Z"
    },
    "papermill": {
     "duration": 7.01737,
     "end_time": "2021-01-04T16:10:00.307987",
     "exception": false,
     "start_time": "2021-01-04T16:09:53.290617",
     "status": "completed"
    },
    "tags": []
   },
   "outputs": [],
   "source": [
    "data = pd.read_csv(path+'icml_face_data.csv')"
   ]
  },
  {
   "cell_type": "code",
   "execution_count": 4,
   "metadata": {
    "execution": {
     "iopub.execute_input": "2021-01-04T16:10:00.353384Z",
     "iopub.status.busy": "2021-01-04T16:10:00.352464Z",
     "iopub.status.idle": "2021-01-04T16:10:00.359731Z",
     "shell.execute_reply": "2021-01-04T16:10:00.360185Z"
    },
    "papermill": {
     "duration": 0.036361,
     "end_time": "2021-01-04T16:10:00.360308",
     "exception": false,
     "start_time": "2021-01-04T16:10:00.323947",
     "status": "completed"
    },
    "tags": []
   },
   "outputs": [
    {
     "data": {
      "text/html": [
       "<div>\n",
       "<style scoped>\n",
       "    .dataframe tbody tr th:only-of-type {\n",
       "        vertical-align: middle;\n",
       "    }\n",
       "\n",
       "    .dataframe tbody tr th {\n",
       "        vertical-align: top;\n",
       "    }\n",
       "\n",
       "    .dataframe thead th {\n",
       "        text-align: right;\n",
       "    }\n",
       "</style>\n",
       "<table border=\"1\" class=\"dataframe\">\n",
       "  <thead>\n",
       "    <tr style=\"text-align: right;\">\n",
       "      <th></th>\n",
       "      <th>emotion</th>\n",
       "      <th>Usage</th>\n",
       "      <th>pixels</th>\n",
       "    </tr>\n",
       "  </thead>\n",
       "  <tbody>\n",
       "    <tr>\n",
       "      <th>0</th>\n",
       "      <td>0</td>\n",
       "      <td>Training</td>\n",
       "      <td>70 80 82 72 58 58 60 63 54 58 60 48 89 115 121...</td>\n",
       "    </tr>\n",
       "    <tr>\n",
       "      <th>1</th>\n",
       "      <td>0</td>\n",
       "      <td>Training</td>\n",
       "      <td>151 150 147 155 148 133 111 140 170 174 182 15...</td>\n",
       "    </tr>\n",
       "    <tr>\n",
       "      <th>2</th>\n",
       "      <td>2</td>\n",
       "      <td>Training</td>\n",
       "      <td>231 212 156 164 174 138 161 173 182 200 106 38...</td>\n",
       "    </tr>\n",
       "    <tr>\n",
       "      <th>3</th>\n",
       "      <td>4</td>\n",
       "      <td>Training</td>\n",
       "      <td>24 32 36 30 32 23 19 20 30 41 21 22 32 34 21 1...</td>\n",
       "    </tr>\n",
       "    <tr>\n",
       "      <th>4</th>\n",
       "      <td>6</td>\n",
       "      <td>Training</td>\n",
       "      <td>4 0 0 0 0 0 0 0 0 0 0 0 3 15 23 28 48 50 58 84...</td>\n",
       "    </tr>\n",
       "  </tbody>\n",
       "</table>\n",
       "</div>"
      ],
      "text/plain": [
       "   emotion     Usage                                             pixels\n",
       "0        0  Training  70 80 82 72 58 58 60 63 54 58 60 48 89 115 121...\n",
       "1        0  Training  151 150 147 155 148 133 111 140 170 174 182 15...\n",
       "2        2  Training  231 212 156 164 174 138 161 173 182 200 106 38...\n",
       "3        4  Training  24 32 36 30 32 23 19 20 30 41 21 22 32 34 21 1...\n",
       "4        6  Training  4 0 0 0 0 0 0 0 0 0 0 0 3 15 23 28 48 50 58 84..."
      ]
     },
     "execution_count": 4,
     "metadata": {},
     "output_type": "execute_result"
    }
   ],
   "source": [
    "data.head()"
   ]
  },
  {
   "cell_type": "markdown",
   "metadata": {
    "papermill": {
     "duration": 0.016094,
     "end_time": "2021-01-04T16:10:00.392616",
     "exception": false,
     "start_time": "2021-01-04T16:10:00.376522",
     "status": "completed"
    },
    "tags": []
   },
   "source": [
    " Define training, validation and test data:"
   ]
  },
  {
   "cell_type": "code",
   "execution_count": 5,
   "metadata": {
    "execution": {
     "iopub.execute_input": "2021-01-04T16:10:00.435013Z",
     "iopub.status.busy": "2021-01-04T16:10:00.433070Z",
     "iopub.status.idle": "2021-01-04T16:10:00.435612Z",
     "shell.execute_reply": "2021-01-04T16:10:00.436012Z"
    },
    "papermill": {
     "duration": 0.027132,
     "end_time": "2021-01-04T16:10:00.436143",
     "exception": false,
     "start_time": "2021-01-04T16:10:00.409011",
     "status": "completed"
    },
    "tags": []
   },
   "outputs": [],
   "source": [
    "def prepare_data(data):\n",
    "    \"\"\" Prepare data for modeling \n",
    "        input: data frame with labels und pixel data\n",
    "        output: image and label array \"\"\"\n",
    "    \n",
    "    image_array = np.zeros(shape=(len(data), 48, 48))\n",
    "    image_label = np.array(list(map(int, data['emotion'])))\n",
    "    \n",
    "    for i, row in enumerate(data.index):\n",
    "        image = np.fromstring(data.loc[row, ' pixels'], dtype=int, sep=' ')\n",
    "        image = np.reshape(image, (48, 48))\n",
    "        image_array[i] = image\n",
    "        \n",
    "    return image_array, image_label"
   ]
  },
  {
   "cell_type": "markdown",
   "metadata": {
    "papermill": {
     "duration": 0.016186,
     "end_time": "2021-01-04T16:10:00.468731",
     "exception": false,
     "start_time": "2021-01-04T16:10:00.452545",
     "status": "completed"
    },
    "tags": []
   },
   "source": [
    "Now we will be using Image Augmentation techniques om our dataset."
   ]
  },
  {
   "cell_type": "code",
   "execution_count": 6,
   "metadata": {
    "execution": {
     "iopub.execute_input": "2021-01-04T16:10:00.513304Z",
     "iopub.status.busy": "2021-01-04T16:10:00.512278Z",
     "iopub.status.idle": "2021-01-04T16:10:04.636236Z",
     "shell.execute_reply": "2021-01-04T16:10:04.635756Z"
    },
    "papermill": {
     "duration": 4.151178,
     "end_time": "2021-01-04T16:10:04.636352",
     "exception": false,
     "start_time": "2021-01-04T16:10:00.485174",
     "status": "completed"
    },
    "tags": []
   },
   "outputs": [],
   "source": [
    "train_image_array, train_image_label = prepare_data(data[data[' Usage']=='Training'])\n",
    "val_image_array, val_image_label = prepare_data(data[data[' Usage']=='PrivateTest'])\n",
    "test_image_array, test_image_label = prepare_data(data[data[' Usage']=='PublicTest'])"
   ]
  },
  {
   "cell_type": "markdown",
   "metadata": {
    "papermill": {
     "duration": 0.016065,
     "end_time": "2021-01-04T16:10:04.669133",
     "exception": false,
     "start_time": "2021-01-04T16:10:04.653068",
     "status": "completed"
    },
    "tags": []
   },
   "source": [
    "Reshape and scale the images:"
   ]
  },
  {
   "cell_type": "code",
   "execution_count": 7,
   "metadata": {
    "execution": {
     "iopub.execute_input": "2021-01-04T16:10:04.709002Z",
     "iopub.status.busy": "2021-01-04T16:10:04.708040Z",
     "iopub.status.idle": "2021-01-04T16:10:04.873608Z",
     "shell.execute_reply": "2021-01-04T16:10:04.873131Z"
    },
    "papermill": {
     "duration": 0.188368,
     "end_time": "2021-01-04T16:10:04.873716",
     "exception": false,
     "start_time": "2021-01-04T16:10:04.685348",
     "status": "completed"
    },
    "tags": []
   },
   "outputs": [],
   "source": [
    "train_images = train_image_array.reshape((train_image_array.shape[0], 48, 48, 1))\n",
    "X_train = train_images.astype('float32')/255\n",
    "val_images = val_image_array.reshape((val_image_array.shape[0], 48, 48, 1))\n",
    "X_val = val_images.astype('float32')/255\n",
    "test_images = test_image_array.reshape((test_image_array.shape[0], 48, 48, 1))\n",
    "X_test = test_images.astype('float32')/255"
   ]
  },
  {
   "cell_type": "markdown",
   "metadata": {
    "papermill": {
     "duration": 0.016357,
     "end_time": "2021-01-04T16:10:04.907444",
     "exception": false,
     "start_time": "2021-01-04T16:10:04.891087",
     "status": "completed"
    },
    "tags": []
   },
   "source": [
    "Encoding of the target value:"
   ]
  },
  {
   "cell_type": "code",
   "execution_count": 8,
   "metadata": {
    "execution": {
     "iopub.execute_input": "2021-01-04T16:10:04.944970Z",
     "iopub.status.busy": "2021-01-04T16:10:04.944436Z",
     "iopub.status.idle": "2021-01-04T16:10:04.949728Z",
     "shell.execute_reply": "2021-01-04T16:10:04.949116Z"
    },
    "papermill": {
     "duration": 0.025843,
     "end_time": "2021-01-04T16:10:04.949823",
     "exception": false,
     "start_time": "2021-01-04T16:10:04.923980",
     "status": "completed"
    },
    "tags": []
   },
   "outputs": [],
   "source": [
    "y_train = keras.utils.to_categorical(train_image_label)\n",
    "y_val = keras.utils.to_categorical(val_image_label)\n",
    "y_test = keras.utils.to_categorical(test_image_label)\n",
    "#keras.utils.to_categorical(train['label'].values)"
   ]
  },
  {
   "cell_type": "code",
   "execution_count": 9,
   "metadata": {
    "execution": {
     "iopub.execute_input": "2021-01-04T16:10:04.997299Z",
     "iopub.status.busy": "2021-01-04T16:10:04.996664Z",
     "iopub.status.idle": "2021-01-04T16:10:05.002092Z",
     "shell.execute_reply": "2021-01-04T16:10:05.001569Z"
    },
    "papermill": {
     "duration": 0.035554,
     "end_time": "2021-01-04T16:10:05.002181",
     "exception": false,
     "start_time": "2021-01-04T16:10:04.966627",
     "status": "completed"
    },
    "scrolled": true,
    "tags": []
   },
   "outputs": [
    {
     "data": {
      "text/html": [
       "<div>\n",
       "<style scoped>\n",
       "    .dataframe tbody tr th:only-of-type {\n",
       "        vertical-align: middle;\n",
       "    }\n",
       "\n",
       "    .dataframe tbody tr th {\n",
       "        vertical-align: top;\n",
       "    }\n",
       "\n",
       "    .dataframe thead th {\n",
       "        text-align: right;\n",
       "    }\n",
       "</style>\n",
       "<table border=\"1\" class=\"dataframe\">\n",
       "  <thead>\n",
       "    <tr style=\"text-align: right;\">\n",
       "      <th></th>\n",
       "      <th>0</th>\n",
       "      <th>1</th>\n",
       "      <th>2</th>\n",
       "      <th>3</th>\n",
       "      <th>4</th>\n",
       "      <th>5</th>\n",
       "      <th>6</th>\n",
       "    </tr>\n",
       "  </thead>\n",
       "  <tbody>\n",
       "    <tr>\n",
       "      <th>0</th>\n",
       "      <td>1.0</td>\n",
       "      <td>0.0</td>\n",
       "      <td>0.0</td>\n",
       "      <td>0.0</td>\n",
       "      <td>0.0</td>\n",
       "      <td>0.0</td>\n",
       "      <td>0.0</td>\n",
       "    </tr>\n",
       "    <tr>\n",
       "      <th>1</th>\n",
       "      <td>1.0</td>\n",
       "      <td>0.0</td>\n",
       "      <td>0.0</td>\n",
       "      <td>0.0</td>\n",
       "      <td>0.0</td>\n",
       "      <td>0.0</td>\n",
       "      <td>0.0</td>\n",
       "    </tr>\n",
       "    <tr>\n",
       "      <th>2</th>\n",
       "      <td>0.0</td>\n",
       "      <td>0.0</td>\n",
       "      <td>1.0</td>\n",
       "      <td>0.0</td>\n",
       "      <td>0.0</td>\n",
       "      <td>0.0</td>\n",
       "      <td>0.0</td>\n",
       "    </tr>\n",
       "    <tr>\n",
       "      <th>3</th>\n",
       "      <td>0.0</td>\n",
       "      <td>0.0</td>\n",
       "      <td>0.0</td>\n",
       "      <td>0.0</td>\n",
       "      <td>1.0</td>\n",
       "      <td>0.0</td>\n",
       "      <td>0.0</td>\n",
       "    </tr>\n",
       "    <tr>\n",
       "      <th>4</th>\n",
       "      <td>0.0</td>\n",
       "      <td>0.0</td>\n",
       "      <td>0.0</td>\n",
       "      <td>0.0</td>\n",
       "      <td>0.0</td>\n",
       "      <td>0.0</td>\n",
       "      <td>1.0</td>\n",
       "    </tr>\n",
       "    <tr>\n",
       "      <th>...</th>\n",
       "      <td>...</td>\n",
       "      <td>...</td>\n",
       "      <td>...</td>\n",
       "      <td>...</td>\n",
       "      <td>...</td>\n",
       "      <td>...</td>\n",
       "      <td>...</td>\n",
       "    </tr>\n",
       "    <tr>\n",
       "      <th>28704</th>\n",
       "      <td>0.0</td>\n",
       "      <td>0.0</td>\n",
       "      <td>1.0</td>\n",
       "      <td>0.0</td>\n",
       "      <td>0.0</td>\n",
       "      <td>0.0</td>\n",
       "      <td>0.0</td>\n",
       "    </tr>\n",
       "    <tr>\n",
       "      <th>28705</th>\n",
       "      <td>1.0</td>\n",
       "      <td>0.0</td>\n",
       "      <td>0.0</td>\n",
       "      <td>0.0</td>\n",
       "      <td>0.0</td>\n",
       "      <td>0.0</td>\n",
       "      <td>0.0</td>\n",
       "    </tr>\n",
       "    <tr>\n",
       "      <th>28706</th>\n",
       "      <td>0.0</td>\n",
       "      <td>0.0</td>\n",
       "      <td>0.0</td>\n",
       "      <td>0.0</td>\n",
       "      <td>1.0</td>\n",
       "      <td>0.0</td>\n",
       "      <td>0.0</td>\n",
       "    </tr>\n",
       "    <tr>\n",
       "      <th>28707</th>\n",
       "      <td>1.0</td>\n",
       "      <td>0.0</td>\n",
       "      <td>0.0</td>\n",
       "      <td>0.0</td>\n",
       "      <td>0.0</td>\n",
       "      <td>0.0</td>\n",
       "      <td>0.0</td>\n",
       "    </tr>\n",
       "    <tr>\n",
       "      <th>28708</th>\n",
       "      <td>0.0</td>\n",
       "      <td>0.0</td>\n",
       "      <td>0.0</td>\n",
       "      <td>0.0</td>\n",
       "      <td>1.0</td>\n",
       "      <td>0.0</td>\n",
       "      <td>0.0</td>\n",
       "    </tr>\n",
       "  </tbody>\n",
       "</table>\n",
       "<p>28709 rows × 7 columns</p>\n",
       "</div>"
      ],
      "text/plain": [
       "         0    1    2    3    4    5    6\n",
       "0      1.0  0.0  0.0  0.0  0.0  0.0  0.0\n",
       "1      1.0  0.0  0.0  0.0  0.0  0.0  0.0\n",
       "2      0.0  0.0  1.0  0.0  0.0  0.0  0.0\n",
       "3      0.0  0.0  0.0  0.0  1.0  0.0  0.0\n",
       "4      0.0  0.0  0.0  0.0  0.0  0.0  1.0\n",
       "...    ...  ...  ...  ...  ...  ...  ...\n",
       "28704  0.0  0.0  1.0  0.0  0.0  0.0  0.0\n",
       "28705  1.0  0.0  0.0  0.0  0.0  0.0  0.0\n",
       "28706  0.0  0.0  0.0  0.0  1.0  0.0  0.0\n",
       "28707  1.0  0.0  0.0  0.0  0.0  0.0  0.0\n",
       "28708  0.0  0.0  0.0  0.0  1.0  0.0  0.0\n",
       "\n",
       "[28709 rows x 7 columns]"
      ]
     },
     "execution_count": 9,
     "metadata": {},
     "output_type": "execute_result"
    }
   ],
   "source": [
    "pd.DataFrame(y_train)"
   ]
  },
  {
   "cell_type": "markdown",
   "metadata": {
    "papermill": {
     "duration": 0.016902,
     "end_time": "2021-01-04T16:10:05.036210",
     "exception": false,
     "start_time": "2021-01-04T16:10:05.019308",
     "status": "completed"
    },
    "tags": []
   },
   "source": [
    "# Data Augmentation"
   ]
  },
  {
   "cell_type": "code",
   "execution_count": 10,
   "metadata": {
    "execution": {
     "iopub.execute_input": "2021-01-04T16:10:05.076597Z",
     "iopub.status.busy": "2021-01-04T16:10:05.075828Z",
     "iopub.status.idle": "2021-01-04T16:10:05.177855Z",
     "shell.execute_reply": "2021-01-04T16:10:05.177289Z"
    },
    "papermill": {
     "duration": 0.12447,
     "end_time": "2021-01-04T16:10:05.177967",
     "exception": false,
     "start_time": "2021-01-04T16:10:05.053497",
     "status": "completed"
    },
    "tags": []
   },
   "outputs": [],
   "source": [
    "# With data augmentation to prevent overfitting\n",
    "from keras.preprocessing.image import ImageDataGenerator\n",
    "datagen = ImageDataGenerator(\n",
    "        featurewise_center=False,  # set input mean to 0 over the dataset\n",
    "        samplewise_center=False,  # set each sample mean to 0\n",
    "        featurewise_std_normalization=False,  # divide inputs by std of the dataset\n",
    "        samplewise_std_normalization=False,  # divide each input by its std\n",
    "        zca_whitening=False,  # apply ZCA whitening\n",
    "        rotation_range=10,  # randomly rotate images in the range (degrees, 0 to 180)\n",
    "        zoom_range = 0.1, # Randomly zoom image \n",
    "        width_shift_range=0.1,  # randomly shift images horizontally (fraction of total width)\n",
    "        height_shift_range=0.1,  # randomly shift images vertically (fraction of total height)\n",
    "        horizontal_flip=False,  # randomly flip images\n",
    "        vertical_flip=False)  # randomly flip images\n",
    "\n",
    "\n",
    "datagen.fit(X_train)"
   ]
  },
  {
   "cell_type": "markdown",
   "metadata": {
    "papermill": {
     "duration": 0.017788,
     "end_time": "2021-01-04T16:10:05.213217",
     "exception": false,
     "start_time": "2021-01-04T16:10:05.195429",
     "status": "completed"
    },
    "tags": []
   },
   "source": [
    "# Now Using CNN Model:"
   ]
  },
  {
   "cell_type": "code",
   "execution_count": 11,
   "metadata": {
    "execution": {
     "iopub.execute_input": "2021-01-04T16:10:05.254809Z",
     "iopub.status.busy": "2021-01-04T16:10:05.253122Z",
     "iopub.status.idle": "2021-01-04T16:10:05.255469Z",
     "shell.execute_reply": "2021-01-04T16:10:05.255872Z"
    },
    "papermill": {
     "duration": 0.025016,
     "end_time": "2021-01-04T16:10:05.255979",
     "exception": false,
     "start_time": "2021-01-04T16:10:05.230963",
     "status": "completed"
    },
    "tags": []
   },
   "outputs": [],
   "source": [
    "# define vars\n",
    "input_reshape = (48, 48, 1)\n",
    "\n",
    "pool_size = (2, 2)\n",
    "\n",
    "hidden_num_units = 265\n",
    "output_num_units = 7\n",
    "\n",
    "epochs = 10\n",
    "batch_size = 128"
   ]
  },
  {
   "cell_type": "code",
   "execution_count": 12,
   "metadata": {
    "execution": {
     "iopub.execute_input": "2021-01-04T16:10:05.300370Z",
     "iopub.status.busy": "2021-01-04T16:10:05.299853Z",
     "iopub.status.idle": "2021-01-04T16:10:07.975944Z",
     "shell.execute_reply": "2021-01-04T16:10:07.975442Z"
    },
    "papermill": {
     "duration": 2.702766,
     "end_time": "2021-01-04T16:10:07.976065",
     "exception": false,
     "start_time": "2021-01-04T16:10:05.273299",
     "status": "completed"
    },
    "tags": []
   },
   "outputs": [
    {
     "name": "stdout",
     "output_type": "stream",
     "text": [
      "CPU times: user 3 µs, sys: 1e+03 ns, total: 4 µs\n",
      "Wall time: 5.72 µs\n"
     ]
    }
   ],
   "source": [
    "%time\n",
    "\n",
    "\n",
    "\n",
    "model = Sequential([\n",
    "\n",
    "Convolution2D(75,(2,2), activation='relu',input_shape=input_reshape),\n",
    "MaxPooling2D((2,2)),\n",
    "\n",
    "Convolution2D(50,(2,2), activation='relu'),\n",
    "MaxPooling2D((2,2)),\n",
    "\n",
    "Convolution2D(25,(2,2), activation='relu'),\n",
    "\n",
    "Flatten(),\n",
    "\n",
    "Dense(hidden_num_units, 'relu'),\n",
    "\n",
    "Dense(output_num_units,'softmax'),\n",
    " ])\n"
   ]
  },
  {
   "cell_type": "code",
   "execution_count": 13,
   "metadata": {
    "execution": {
     "iopub.execute_input": "2021-01-04T16:10:08.018763Z",
     "iopub.status.busy": "2021-01-04T16:10:08.016161Z",
     "iopub.status.idle": "2021-01-04T16:10:08.025551Z",
     "shell.execute_reply": "2021-01-04T16:10:08.026148Z"
    },
    "papermill": {
     "duration": 0.031825,
     "end_time": "2021-01-04T16:10:08.026296",
     "exception": false,
     "start_time": "2021-01-04T16:10:07.994471",
     "status": "completed"
    },
    "tags": []
   },
   "outputs": [
    {
     "name": "stdout",
     "output_type": "stream",
     "text": [
      "Model: \"sequential\"\n",
      "_________________________________________________________________\n",
      "Layer (type)                 Output Shape              Param #   \n",
      "=================================================================\n",
      "conv2d (Conv2D)              (None, 47, 47, 75)        375       \n",
      "_________________________________________________________________\n",
      "max_pooling2d (MaxPooling2D) (None, 23, 23, 75)        0         \n",
      "_________________________________________________________________\n",
      "conv2d_1 (Conv2D)            (None, 22, 22, 50)        15050     \n",
      "_________________________________________________________________\n",
      "max_pooling2d_1 (MaxPooling2 (None, 11, 11, 50)        0         \n",
      "_________________________________________________________________\n",
      "conv2d_2 (Conv2D)            (None, 10, 10, 25)        5025      \n",
      "_________________________________________________________________\n",
      "flatten (Flatten)            (None, 2500)              0         \n",
      "_________________________________________________________________\n",
      "dense (Dense)                (None, 265)               662765    \n",
      "_________________________________________________________________\n",
      "dense_1 (Dense)              (None, 7)                 1862      \n",
      "=================================================================\n",
      "Total params: 685,077\n",
      "Trainable params: 685,077\n",
      "Non-trainable params: 0\n",
      "_________________________________________________________________\n"
     ]
    }
   ],
   "source": [
    "model.summary()"
   ]
  },
  {
   "cell_type": "code",
   "execution_count": 14,
   "metadata": {
    "execution": {
     "iopub.execute_input": "2021-01-04T16:10:08.075312Z",
     "iopub.status.busy": "2021-01-04T16:10:08.074482Z",
     "iopub.status.idle": "2021-01-04T16:10:32.553634Z",
     "shell.execute_reply": "2021-01-04T16:10:32.553139Z"
    },
    "papermill": {
     "duration": 24.508172,
     "end_time": "2021-01-04T16:10:32.553742",
     "exception": false,
     "start_time": "2021-01-04T16:10:08.045570",
     "status": "completed"
    },
    "tags": []
   },
   "outputs": [
    {
     "name": "stdout",
     "output_type": "stream",
     "text": [
      "Epoch 1/10\n",
      "225/225 [==============================] - 2s 10ms/step - loss: 1.6862 - accuracy: 0.3291 - val_loss: 1.5660 - val_accuracy: 0.4087\n",
      "Epoch 2/10\n",
      "225/225 [==============================] - 2s 9ms/step - loss: 1.4982 - accuracy: 0.4235 - val_loss: 1.4395 - val_accuracy: 0.4486\n",
      "Epoch 3/10\n",
      "225/225 [==============================] - 2s 9ms/step - loss: 1.3745 - accuracy: 0.4751 - val_loss: 1.3671 - val_accuracy: 0.4773\n",
      "Epoch 4/10\n",
      "225/225 [==============================] - 2s 9ms/step - loss: 1.2890 - accuracy: 0.5084 - val_loss: 1.2968 - val_accuracy: 0.4912\n",
      "Epoch 5/10\n",
      "225/225 [==============================] - 2s 9ms/step - loss: 1.2155 - accuracy: 0.5404 - val_loss: 1.2775 - val_accuracy: 0.5082\n",
      "Epoch 6/10\n",
      "225/225 [==============================] - 2s 9ms/step - loss: 1.1519 - accuracy: 0.5668 - val_loss: 1.2409 - val_accuracy: 0.5219\n",
      "Epoch 7/10\n",
      "225/225 [==============================] - 2s 9ms/step - loss: 1.0918 - accuracy: 0.5927 - val_loss: 1.2570 - val_accuracy: 0.5277\n",
      "Epoch 8/10\n",
      "225/225 [==============================] - 2s 9ms/step - loss: 1.0201 - accuracy: 0.6249 - val_loss: 1.2364 - val_accuracy: 0.5263\n",
      "Epoch 9/10\n",
      "225/225 [==============================] - 2s 10ms/step - loss: 0.9443 - accuracy: 0.6542 - val_loss: 1.2402 - val_accuracy: 0.5369\n",
      "Epoch 10/10\n",
      "225/225 [==============================] - 2s 9ms/step - loss: 0.8675 - accuracy: 0.6841 - val_loss: 1.2647 - val_accuracy: 0.5433\n"
     ]
    }
   ],
   "source": [
    "model.compile(loss='categorical_crossentropy', optimizer='adam', metrics=['accuracy'])\n",
    "\n",
    "trained_model_conv = model.fit(X_train, y_train, epochs =epochs, batch_size=batch_size, validation_data=(X_val, y_val))"
   ]
  },
  {
   "cell_type": "code",
   "execution_count": 15,
   "metadata": {
    "execution": {
     "iopub.execute_input": "2021-01-04T16:10:32.817705Z",
     "iopub.status.busy": "2021-01-04T16:10:32.817006Z",
     "iopub.status.idle": "2021-01-04T16:10:33.000501Z",
     "shell.execute_reply": "2021-01-04T16:10:33.001038Z"
    },
    "papermill": {
     "duration": 0.318833,
     "end_time": "2021-01-04T16:10:33.001199",
     "exception": false,
     "start_time": "2021-01-04T16:10:32.682366",
     "status": "completed"
    },
    "scrolled": true,
    "tags": []
   },
   "outputs": [
    {
     "data": {
      "image/png": "[encoded data removed]",
      "text/plain": [
       "<Figure size 432x288 with 1 Axes>"
      ]
     },
     "metadata": {
      "needs_background": "light"
     },
     "output_type": "display_data"
    }
   ],
   "source": [
    "plt.plot(trained_model_conv.history['loss'],label='Train Loss')\n",
    "plt.plot(trained_model_conv.history['val_loss'],label='Val Loss')\n",
    "plt.xlabel('Ephocs')\n",
    "plt.ylabel('loss')\n",
    "plt.legend()\n",
    "plt.show()"
   ]
  },
  {
   "cell_type": "markdown",
   "metadata": {
    "papermill": {
     "duration": 0.146448,
     "end_time": "2021-01-04T16:10:33.278073",
     "exception": false,
     "start_time": "2021-01-04T16:10:33.131625",
     "status": "completed"
    },
    "tags": []
   },
   "source": [
    "I have added 2 convolutional layers each followed by an activation and then Dropout technique. 20 ephocs "
   ]
  },
  {
   "cell_type": "code",
   "execution_count": 16,
   "metadata": {
    "execution": {
     "iopub.execute_input": "2021-01-04T16:10:33.563679Z",
     "iopub.status.busy": "2021-01-04T16:10:33.558056Z",
     "iopub.status.idle": "2021-01-04T16:10:33.740652Z",
     "shell.execute_reply": "2021-01-04T16:10:33.741838Z"
    },
    "papermill": {
     "duration": 0.332447,
     "end_time": "2021-01-04T16:10:33.742032",
     "exception": false,
     "start_time": "2021-01-04T16:10:33.409585",
     "status": "completed"
    },
    "tags": []
   },
   "outputs": [
    {
     "name": "stdout",
     "output_type": "stream",
     "text": [
      "Model: \"sequential_1\"\n",
      "_________________________________________________________________\n",
      "Layer (type)                 Output Shape              Param #   \n",
      "=================================================================\n",
      "conv2d_3 (Conv2D)            (None, 48, 48, 256)       2560      \n",
      "_________________________________________________________________\n",
      "max_pooling2d_2 (MaxPooling2 (None, 24, 24, 256)       0         \n",
      "_________________________________________________________________\n",
      "conv2d_4 (Conv2D)            (None, 24, 24, 256)       590080    \n",
      "_________________________________________________________________\n",
      "max_pooling2d_3 (MaxPooling2 (None, 12, 12, 256)       0         \n",
      "_________________________________________________________________\n",
      "dropout (Dropout)            (None, 12, 12, 256)       0         \n",
      "_________________________________________________________________\n",
      "conv2d_5 (Conv2D)            (None, 12, 12, 128)       295040    \n",
      "_________________________________________________________________\n",
      "max_pooling2d_4 (MaxPooling2 (None, 6, 6, 128)         0         \n",
      "_________________________________________________________________\n",
      "conv2d_6 (Conv2D)            (None, 6, 6, 128)         147584    \n",
      "_________________________________________________________________\n",
      "max_pooling2d_5 (MaxPooling2 (None, 3, 3, 128)         0         \n",
      "_________________________________________________________________\n",
      "dropout_1 (Dropout)          (None, 3, 3, 128)         0         \n",
      "_________________________________________________________________\n",
      "conv2d_7 (Conv2D)            (None, 3, 3, 75)          86475     \n",
      "_________________________________________________________________\n",
      "max_pooling2d_6 (MaxPooling2 (None, 2, 2, 75)          0         \n",
      "_________________________________________________________________\n",
      "conv2d_8 (Conv2D)            (None, 2, 2, 50)          33800     \n",
      "_________________________________________________________________\n",
      "max_pooling2d_7 (MaxPooling2 (None, 1, 1, 50)          0         \n",
      "_________________________________________________________________\n",
      "dropout_2 (Dropout)          (None, 1, 1, 50)          0         \n",
      "_________________________________________________________________\n",
      "conv2d_9 (Conv2D)            (None, 1, 1, 64)          28864     \n",
      "_________________________________________________________________\n",
      "max_pooling2d_8 (MaxPooling2 (None, 1, 1, 64)          0         \n",
      "_________________________________________________________________\n",
      "conv2d_10 (Conv2D)           (None, 1, 1, 64)          36928     \n",
      "_________________________________________________________________\n",
      "max_pooling2d_9 (MaxPooling2 (None, 1, 1, 64)          0         \n",
      "_________________________________________________________________\n",
      "dropout_3 (Dropout)          (None, 1, 1, 64)          0         \n",
      "_________________________________________________________________\n",
      "flatten_1 (Flatten)          (None, 64)                0         \n",
      "_________________________________________________________________\n",
      "dense_2 (Dense)              (None, 256)               16640     \n",
      "_________________________________________________________________\n",
      "dropout_4 (Dropout)          (None, 256)               0         \n",
      "_________________________________________________________________\n",
      "dense_3 (Dense)              (None, 7)                 1799      \n",
      "=================================================================\n",
      "Total params: 1,239,770\n",
      "Trainable params: 1,239,770\n",
      "Non-trainable params: 0\n",
      "_________________________________________________________________\n"
     ]
    }
   ],
   "source": [
    "model = Sequential()\n",
    "#Block-1\n",
    "model.add(Convolution2D(256 , (3,3) , strides = 1 , padding = 'same' , activation = 'relu' , input_shape = input_reshape))\n",
    "model.add(MaxPooling2D((2,2) , strides = 2 , padding = 'same'))\n",
    "model.add(Convolution2D(256 , (3,3) , strides = 1 , padding = 'same' , activation = 'relu'))\n",
    "model.add(MaxPooling2D((2,2) , strides = 2 , padding = 'same'))\n",
    "model.add(Dropout(0.2))\n",
    "\n",
    "#Block-2\n",
    "model.add(Convolution2D(128 , (3,3) , strides = 1 , padding = 'same' , activation = 'relu' , input_shape = input_reshape))\n",
    "model.add(MaxPooling2D((2,2) , strides = 2 , padding = 'same'))\n",
    "model.add(Convolution2D(128 , (3,3) , strides = 1 , padding = 'same' , activation = 'relu'))\n",
    "model.add(MaxPooling2D((2,2) , strides = 2 , padding = 'same'))\n",
    "model.add(Dropout(0.2))\n",
    "\n",
    "#Block-3\n",
    "model.add(Convolution2D(75 , (3,3) , strides = 1 , padding = 'same' , activation = 'relu' , input_shape = input_reshape))\n",
    "model.add(MaxPooling2D((2,2) , strides = 2 , padding = 'same'))\n",
    "model.add(Convolution2D(50 , (3,3) , strides = 1 , padding = 'same' , activation = 'relu'))\n",
    "model.add(MaxPooling2D((2,2) , strides = 2 , padding = 'same'))\n",
    "model.add(Dropout(0.2))\n",
    "\n",
    "#Block-4\n",
    "model.add(Convolution2D(64 , (3,3) , strides = 1 , padding = 'same' , activation = 'relu' , input_shape = input_reshape))\n",
    "model.add(MaxPooling2D((2,2) , strides = 2 , padding = 'same'))\n",
    "model.add(Convolution2D(64 , (3,3) , strides = 1 , padding = 'same' , activation = 'relu'))\n",
    "model.add(MaxPooling2D((2,2) , strides = 2 , padding = 'same'))\n",
    "model.add(Dropout(0.2))\n",
    "\n",
    "#Block-5\n",
    "model.add(Flatten())\n",
    "model.add(Dense(units = 256 , activation = 'relu'))\n",
    "model.add(Dropout(0.3))\n",
    "\n",
    "#Block-6\n",
    "model.add(Dense(units = 7 , activation = 'softmax'))\n",
    "model.compile(optimizer = 'adam' , loss = 'categorical_crossentropy' , metrics = ['accuracy'])\n",
    "model.summary()"
   ]
  },
  {
   "cell_type": "code",
   "execution_count": 17,
   "metadata": {
    "execution": {
     "iopub.execute_input": "2021-01-04T16:10:33.999894Z",
     "iopub.status.busy": "2021-01-04T16:10:33.999027Z",
     "iopub.status.idle": "2021-01-04T16:10:34.002857Z",
     "shell.execute_reply": "2021-01-04T16:10:34.002431Z"
    },
    "papermill": {
     "duration": 0.134038,
     "end_time": "2021-01-04T16:10:34.002952",
     "exception": false,
     "start_time": "2021-01-04T16:10:33.868914",
     "status": "completed"
    },
    "tags": []
   },
   "outputs": [],
   "source": [
    "from keras.optimizers import RMSprop,SGD,Adam\n",
    "from keras.callbacks import ModelCheckpoint, EarlyStopping, ReduceLROnPlateau"
   ]
  },
  {
   "cell_type": "markdown",
   "metadata": {
    "papermill": {
     "duration": 0.12727,
     "end_time": "2021-01-04T16:10:34.255162",
     "exception": false,
     "start_time": "2021-01-04T16:10:34.127892",
     "status": "completed"
    },
    "tags": []
   },
   "source": [
    "Before compiling i will create 3 things using keras.callbacks class:\n",
    "\n",
    "**1-Checkpoint( Function — ModelCheckpoint() )**\n",
    "\n",
    "It will monitor the validation loss and will try to minimize the loss using the mode=’min’ property. When the checkpoint is reached it will save the best trained weights. Verbose=1 is just for visualization when the code created checkpoint.Here i am using it’s following parameters:\n",
    "\n",
    "**file-path:** Path to save the model file.Here i am saving the model file with the name EmotionDetectionModel.h5\n",
    "**monitor:** Quantity to monitor.Here i am monitoring the validation loss.\n",
    "\n",
    "**mode:** One of {auto, min, max}. If save_best_only=True, the decision to overwrite the current save file is made based on either the maximization or the minimization of the monitored quantity.\n",
    "\n",
    "**save_best_only:** If save_best_only=True, the latest best model according to the quantity monitored will not be overwritten.\n",
    "**verbose:** int. 0: quiet, 1: update messages.\n",
    "\n",
    "**2-Early Stopping ( Function — EarlyStopping() )**\n",
    "\n",
    "This will stop the execution early by checking the following properties.\n",
    "\n",
    "**monitor:** Quantity to monitor.Here i am monitoring the validation loss.\n",
    "\n",
    "**min_delta:** Minimum change in the monitored quantity to qualify as an improvement, i.e. an absolute change of less than **min_delta,** will count as no improvement.Here i have given it 0.\n",
    "\n",
    "**patience:** Number of epochs with no improvement after which training will be stopped. Here i have given it 3.\n",
    "\n",
    "**restore_best_weights:** Whether to restore model weights from the epoch with the best value of the monitored quantity. If False, the model weights obtained at the last step of training are used.Here i have given it True.\n",
    "\n",
    "**verbose:** int. 0: quiet, 1: update messages.\n",
    "\n",
    "**3-Reduce Learning Rate ( Function — ReduceLROnPlateau() )**\n",
    "\n",
    "Models often benefit from reducing the learning rate by a factor of 2–10 once learning stagnates. This callback monitors a quantity and if no improvement is seen for a ‘patience’ number of epochs, the learning rate is reduced. I have used the following properties for this.\n",
    "\n",
    "**monitor**: To monitor a particular loss. Here i am monitoring the validation loss.\n",
    "\n",
    "**factor**: Factor by which the learning rate will be reduced. new_lr = lr * factor. Here i am using 0.2 as factor.\n",
    "\n",
    "**patience**: Number of epochs with no improvement after which learning rate will be reduced.Here i am using 3.\n",
    "\n",
    "**min_delta**: Threshold for measuring the new optimum, to only focus on significant changes.\n",
    "\n",
    "**verbose**: int. 0: quiet, 1: update messages."
   ]
  },
  {
   "cell_type": "code",
   "execution_count": 18,
   "metadata": {
    "execution": {
     "iopub.execute_input": "2021-01-04T16:10:34.517109Z",
     "iopub.status.busy": "2021-01-04T16:10:34.515273Z",
     "iopub.status.idle": "2021-01-04T16:10:34.517676Z",
     "shell.execute_reply": "2021-01-04T16:10:34.518105Z"
    },
    "papermill": {
     "duration": 0.13591,
     "end_time": "2021-01-04T16:10:34.518221",
     "exception": false,
     "start_time": "2021-01-04T16:10:34.382311",
     "status": "completed"
    },
    "tags": []
   },
   "outputs": [],
   "source": [
    "checkpoint = ModelCheckpoint('EmotionDetectionModel.h5',\n",
    "                             monitor='val_loss',\n",
    "                             mode='min',\n",
    "                             save_best_only=True,\n",
    "                             verbose=1)\n",
    "earlystop = EarlyStopping(monitor='val_loss',\n",
    "                          min_delta=0,\n",
    "                          patience=3,\n",
    "                          verbose=1,\n",
    "                          restore_best_weights=True\n",
    "                          )\n",
    "reduce_lr = ReduceLROnPlateau(monitor='val_loss',\n",
    "                              factor=0.2,\n",
    "                              patience=3,\n",
    "                              verbose=1,\n",
    "                              min_delta=0.0001)\n",
    "callbacks = [earlystop,checkpoint,reduce_lr]"
   ]
  },
  {
   "cell_type": "code",
   "execution_count": 19,
   "metadata": {
    "execution": {
     "iopub.execute_input": "2021-01-04T16:10:34.782182Z",
     "iopub.status.busy": "2021-01-04T16:10:34.781598Z",
     "iopub.status.idle": "2021-01-04T16:12:56.746103Z",
     "shell.execute_reply": "2021-01-04T16:12:56.745625Z"
    },
    "papermill": {
     "duration": 142.100849,
     "end_time": "2021-01-04T16:12:56.746214",
     "exception": false,
     "start_time": "2021-01-04T16:10:34.645365",
     "status": "completed"
    },
    "tags": []
   },
   "outputs": [
    {
     "name": "stdout",
     "output_type": "stream",
     "text": [
      "Epoch 1/20\n",
      "225/225 [==============================] - ETA: 0s - loss: 1.8248 - accuracy: 0.2490\n",
      "Epoch 00001: val_loss improved from inf to 1.81616, saving model to EmotionDetectionModel.h5\n",
      "225/225 [==============================] - 8s 36ms/step - loss: 1.8248 - accuracy: 0.2490 - val_loss: 1.8162 - val_accuracy: 0.2449\n",
      "Epoch 2/20\n",
      "223/225 [============================>.] - ETA: 0s - loss: 1.8118 - accuracy: 0.2515\n",
      "Epoch 00002: val_loss improved from 1.81616 to 1.81509, saving model to EmotionDetectionModel.h5\n",
      "225/225 [==============================] - 8s 34ms/step - loss: 1.8122 - accuracy: 0.2513 - val_loss: 1.8151 - val_accuracy: 0.2449\n",
      "Epoch 3/20\n",
      "223/225 [============================>.] - ETA: 0s - loss: 1.8002 - accuracy: 0.2518\n",
      "Epoch 00003: val_loss improved from 1.81509 to 1.78771, saving model to EmotionDetectionModel.h5\n",
      "225/225 [==============================] - 8s 34ms/step - loss: 1.8002 - accuracy: 0.2518 - val_loss: 1.7877 - val_accuracy: 0.2538\n",
      "Epoch 4/20\n",
      "223/225 [============================>.] - ETA: 0s - loss: 1.7186 - accuracy: 0.2938\n",
      "Epoch 00004: val_loss improved from 1.78771 to 1.64859, saving model to EmotionDetectionModel.h5\n",
      "225/225 [==============================] - 8s 35ms/step - loss: 1.7184 - accuracy: 0.2938 - val_loss: 1.6486 - val_accuracy: 0.3110\n",
      "Epoch 5/20\n",
      "223/225 [============================>.] - ETA: 0s - loss: 1.5779 - accuracy: 0.3673\n",
      "Epoch 00005: val_loss improved from 1.64859 to 1.48354, saving model to EmotionDetectionModel.h5\n",
      "225/225 [==============================] - 8s 34ms/step - loss: 1.5774 - accuracy: 0.3672 - val_loss: 1.4835 - val_accuracy: 0.3968\n",
      "Epoch 6/20\n",
      "225/225 [==============================] - ETA: 0s - loss: 1.4550 - accuracy: 0.4119\n",
      "Epoch 00006: val_loss improved from 1.48354 to 1.39277, saving model to EmotionDetectionModel.h5\n",
      "225/225 [==============================] - 8s 34ms/step - loss: 1.4550 - accuracy: 0.4119 - val_loss: 1.3928 - val_accuracy: 0.4335\n",
      "Epoch 7/20\n",
      "223/225 [============================>.] - ETA: 0s - loss: 1.3935 - accuracy: 0.4387\n",
      "Epoch 00007: val_loss improved from 1.39277 to 1.35738, saving model to EmotionDetectionModel.h5\n",
      "225/225 [==============================] - 8s 34ms/step - loss: 1.3937 - accuracy: 0.4385 - val_loss: 1.3574 - val_accuracy: 0.4547\n",
      "Epoch 8/20\n",
      "223/225 [============================>.] - ETA: 0s - loss: 1.3545 - accuracy: 0.4499\n",
      "Epoch 00008: val_loss improved from 1.35738 to 1.33952, saving model to EmotionDetectionModel.h5\n",
      "225/225 [==============================] - 8s 36ms/step - loss: 1.3541 - accuracy: 0.4499 - val_loss: 1.3395 - val_accuracy: 0.4689\n",
      "Epoch 9/20\n",
      "223/225 [============================>.] - ETA: 0s - loss: 1.3191 - accuracy: 0.4723\n",
      "Epoch 00009: val_loss improved from 1.33952 to 1.29603, saving model to EmotionDetectionModel.h5\n",
      "225/225 [==============================] - 8s 35ms/step - loss: 1.3193 - accuracy: 0.4721 - val_loss: 1.2960 - val_accuracy: 0.4848\n",
      "Epoch 10/20\n",
      "223/225 [============================>.] - ETA: 0s - loss: 1.2857 - accuracy: 0.4904\n",
      "Epoch 00010: val_loss improved from 1.29603 to 1.27974, saving model to EmotionDetectionModel.h5\n",
      "225/225 [==============================] - 8s 34ms/step - loss: 1.2863 - accuracy: 0.4904 - val_loss: 1.2797 - val_accuracy: 0.5065\n",
      "Epoch 11/20\n",
      "223/225 [============================>.] - ETA: 0s - loss: 1.2461 - accuracy: 0.5114\n",
      "Epoch 00011: val_loss improved from 1.27974 to 1.24115, saving model to EmotionDetectionModel.h5\n",
      "225/225 [==============================] - 8s 34ms/step - loss: 1.2460 - accuracy: 0.5111 - val_loss: 1.2411 - val_accuracy: 0.5224\n",
      "Epoch 12/20\n",
      "223/225 [============================>.] - ETA: 0s - loss: 1.2066 - accuracy: 0.5298\n",
      "Epoch 00012: val_loss improved from 1.24115 to 1.20718, saving model to EmotionDetectionModel.h5\n",
      "225/225 [==============================] - 8s 35ms/step - loss: 1.2065 - accuracy: 0.5298 - val_loss: 1.2072 - val_accuracy: 0.5316\n",
      "Epoch 13/20\n",
      "223/225 [============================>.] - ETA: 0s - loss: 1.1732 - accuracy: 0.5486\n",
      "Epoch 00013: val_loss did not improve from 1.20718\n",
      "225/225 [==============================] - 8s 34ms/step - loss: 1.1734 - accuracy: 0.5483 - val_loss: 1.2214 - val_accuracy: 0.5286\n",
      "Epoch 14/20\n",
      "223/225 [============================>.] - ETA: 0s - loss: 1.1379 - accuracy: 0.5653\n",
      "Epoch 00014: val_loss improved from 1.20718 to 1.19964, saving model to EmotionDetectionModel.h5\n",
      "225/225 [==============================] - 8s 34ms/step - loss: 1.1377 - accuracy: 0.5657 - val_loss: 1.1996 - val_accuracy: 0.5414\n",
      "Epoch 15/20\n",
      "223/225 [============================>.] - ETA: 0s - loss: 1.1124 - accuracy: 0.5732\n",
      "Epoch 00015: val_loss improved from 1.19964 to 1.16985, saving model to EmotionDetectionModel.h5\n",
      "225/225 [==============================] - 8s 34ms/step - loss: 1.1124 - accuracy: 0.5733 - val_loss: 1.1698 - val_accuracy: 0.5528\n",
      "Epoch 16/20\n",
      "223/225 [============================>.] - ETA: 0s - loss: 1.0940 - accuracy: 0.5832\n",
      "Epoch 00016: val_loss did not improve from 1.16985\n",
      "225/225 [==============================] - 8s 34ms/step - loss: 1.0940 - accuracy: 0.5833 - val_loss: 1.2028 - val_accuracy: 0.5497\n",
      "Epoch 17/20\n",
      "224/225 [============================>.] - ETA: 0s - loss: 1.0693 - accuracy: 0.5914\n",
      "Epoch 00017: val_loss did not improve from 1.16985\n",
      "225/225 [==============================] - 8s 34ms/step - loss: 1.0692 - accuracy: 0.5915 - val_loss: 1.2014 - val_accuracy: 0.5461\n",
      "Epoch 18/20\n",
      "223/225 [============================>.] - ETA: 0s - loss: 1.0510 - accuracy: 0.6045Restoring model weights from the end of the best epoch.\n",
      "\n",
      "Epoch 00018: val_loss did not improve from 1.16985\n",
      "\n",
      "Epoch 00018: ReduceLROnPlateau reducing learning rate to 0.00020000000949949026.\n",
      "225/225 [==============================] - 8s 34ms/step - loss: 1.0508 - accuracy: 0.6047 - val_loss: 1.1766 - val_accuracy: 0.5614\n",
      "Epoch 00018: early stopping\n"
     ]
    }
   ],
   "source": [
    "model.compile(loss='categorical_crossentropy', optimizer='adam', metrics=['accuracy'])\n",
    "\n",
    "trained_model_conv = model.fit(X_train, y_train, epochs =20, batch_size=128,callbacks=callbacks, validation_data=(X_val, y_val))"
   ]
  },
  {
   "cell_type": "code",
   "execution_count": 20,
   "metadata": {
    "execution": {
     "iopub.execute_input": "2021-01-04T16:12:58.131966Z",
     "iopub.status.busy": "2021-01-04T16:12:58.130828Z",
     "iopub.status.idle": "2021-01-04T16:12:58.276612Z",
     "shell.execute_reply": "2021-01-04T16:12:58.277079Z"
    },
    "papermill": {
     "duration": 0.842672,
     "end_time": "2021-01-04T16:12:58.277232",
     "exception": false,
     "start_time": "2021-01-04T16:12:57.434560",
     "status": "completed"
    },
    "tags": []
   },
   "outputs": [
    {
     "data": {
      "image/png": "[encoded data removed]",
      "text/plain": [
       "<Figure size 432x288 with 1 Axes>"
      ]
     },
     "metadata": {
      "needs_background": "light"
     },
     "output_type": "display_data"
    }
   ],
   "source": [
    "plt.plot(trained_model_conv.history['loss'],label='Train Loss')\n",
    "plt.plot(trained_model_conv.history['val_loss'],label='Val Loss')\n",
    "plt.xlabel('Ephocs')\n",
    "plt.ylabel('loss')\n",
    "plt.legend()\n",
    "plt.show()"
   ]
  },
  {
   "cell_type": "markdown",
   "metadata": {
    "papermill": {
     "duration": 0.690782,
     "end_time": "2021-01-04T16:12:59.667237",
     "exception": false,
     "start_time": "2021-01-04T16:12:58.976455",
     "status": "completed"
    },
    "tags": []
   },
   "source": [
    "Driver Code\n",
    "\n",
    "Now i’ll explain the code for Emotion Detection using the model that i created in the above section.\n",
    "\n",
    "Now we have the engine and the only thing left to make is the body so that our software is complete.\n",
    "\n",
    "First let’s once more import some modules that are need to run the code."
   ]
  },
  {
   "cell_type": "code",
   "execution_count": 8,
   "metadata": {},
   "outputs": [],
   "source": [
    "import tensorflow.keras as keras\n",
    "from keras.models import load_model\n",
    "from keras.preprocessing.image import img_to_array\n",
    "from keras.preprocessing import image\n",
    "import cv2\n",
    "import numpy as np\n"
   ]
  },
  {
   "cell_type": "markdown",
   "metadata": {},
   "source": [
    "Now let’s load the model and also load a classifier that i have used to detect the face of a person in-front of the camera. \n",
    "I have used the haarcascade_frontalface_default classifier. Haar Cascade is a machine learning object detection algorithm used to identify objects in an image or video and based on the concept of​​ features proposed by Paul Viola and Michael Jones in their paper “Rapid Object Detection using a Boosted Cascade of Simple Features” in 2001. \n",
    "The haarcascade_frontalface_default classifier detects the front face of a person in an image or a continuous video feed."
   ]
  },
  {
   "cell_type": "code",
   "execution_count": null,
   "metadata": {},
   "outputs": [],
   "source": [
    "face_classifier=cv2.CascadeClassifier('haarcascade_frontalface_default.xml')\n",
    "#cascadePath = \"haarcascade_frontalface_default.xml\"\n",
    "classifier = keras.models.load_model('EmotionDetectionModel.h5')"
   ]
  },
  {
   "cell_type": "markdown",
   "metadata": {},
   "source": [
    "Now i’ll define a variable class_labels to store the name of the classes or the types of emotions we are going to predict\n",
    "\n",
    "and also a variable cap to store the value returned by the cv2.VideoCapture method. \n",
    "\n",
    "Here the value 0 in VideoCapture is used to instruct the method to use the primary webcam of a laptop."
   ]
  },
  {
   "cell_type": "code",
   "execution_count": null,
   "metadata": {},
   "outputs": [],
   "source": [
    "class_labels=['Angry','Happy','Neutral','Sad','Surprise']\n",
    "cap=cv2.VideoCapture(0)"
   ]
  },
  {
   "cell_type": "markdown",
   "metadata": {},
   "source": [
    "\n",
    "Now i’ll explain the code to make boxes around the faces detected by the classifier in the camera feed.\n"
   ]
  },
  {
   "cell_type": "code",
   "execution_count": null,
   "metadata": {},
   "outputs": [],
   "source": [
    "while True:\n",
    "    ret,frame=cap.read()\n",
    "    labels=[]\n",
    "    gray=cv2.cvtColor(frame,cv2.COLOR_BGR2GRAY)\n",
    "    faces=face_classifier.detectMultiScale(gray,1.3,5)\n",
    "\n",
    "    for (x,y,w,h) in faces:\n",
    "        cv2.rectangle(frame,(x,y),(x+w,y+h),(255,0,0),2)\n",
    "        roi_gray=gray[y:y+h,x:x+w]\n",
    "        roi_gray=cv2.resize(roi_gray,(48,48),interpolation=cv2.INTER_AREA)\n",
    "\n",
    "        if np.sum([roi_gray])!=0:\n",
    "            roi=roi_gray.astype('float')/255.0\n",
    "            roi=img_to_array(roi)\n",
    "            roi=np.expand_dims(roi,axis=0)\n",
    "\n",
    "            preds=classifier.predict(roi)[0]\n",
    "            label=class_labels[preds.argmax()]\n",
    "            label_position=(x,y)\n",
    "            cv2.putText(frame,label,label_position,cv2.FONT_HERSHEY_SIMPLEX,2,(0,255,0),3)\n",
    "        else:\n",
    "            cv2.putText(frame,'No Face Found',(20,20),cv2.FONT_HERSHEY_SIMPLEX,2,(0,255,0),3)\n",
    "    \n",
    "    cv2.imshow('Emotion Detector',frame)\n",
    "    if cv2.waitKey(1) & 0xFF == ord('q'):\n",
    "        break\n",
    "cap.release()\n",
    "cv2.destroyAllWindows()"
   ]
  }
 ],
 "metadata": {
  "kernelspec": {
   "display_name": "Python 3",
   "language": "python",
   "name": "python3"
  },
  "language_info": {
   "codemirror_mode": {
    "name": "ipython",
    "version": 3
   },
   "file_extension": ".py",
   "mimetype": "text/x-python",
   "name": "python",
   "nbconvert_exporter": "python",
   "pygments_lexer": "ipython3",
   "version": "3.7.6"
  },
  "papermill": {
   "duration": 197.827049,
   "end_time": "2021-01-04T16:13:02.357427",
   "environment_variables": {},
   "exception": null,
   "input_path": "__notebook__.ipynb",
   "output_path": "__notebook__.ipynb",
   "parameters": {},
   "start_time": "2021-01-04T16:09:44.530378",
   "version": "2.1.0"
  }
 },
 "nbformat": 4,
 "nbformat_minor": 4
}
